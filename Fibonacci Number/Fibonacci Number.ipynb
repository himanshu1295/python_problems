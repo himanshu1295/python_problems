{
 "cells": [
  {
   "cell_type": "markdown",
   "metadata": {},
   "source": [
    "**Given an integer n. Write a program to find the nth Fibonacci number.**\n",
    "\n",
    "**The nth Fibonacci number is given by the forumla F(n)=F(n-1)+F(n-2). The first few fibonacci numbers are:**\n",
    "\n",
    "**0, 1, 1, 2, 3, 5, 8, 13, 21, 34, 55, 89, 144 ..... and so on**"
   ]
  },
  {
   "cell_type": "code",
   "execution_count": 1,
   "metadata": {},
   "outputs": [
    {
     "name": "stdout",
     "output_type": "stream",
     "text": [
      "34\n"
     ]
    }
   ],
   "source": [
    "def fibonacci(n):\n",
    "    a = 0                       # starts with a = 0 at the first index which is 0\n",
    "    b = 1                       # starts with b = 1 at the second index which is 1\n",
    "    if n < 0:\n",
    "        print(\"Incorrect input\")\n",
    "    elif n == 0:\n",
    "        return a\n",
    "    elif n == 1:\n",
    "        return b\n",
    "    else:\n",
    "        for i in range(2, n+1):   # when the whole loops runs from 2 to n+1 then only value is returned\n",
    "            c = a + b             \n",
    "            a = b                 # a becomes b , eg.  a = 2 and b = 3 now c = 5 so a will become 3 and b will become 5\n",
    "            b = c                 # b becomes c\n",
    "        return b                  # value of b is returned which is in the series\n",
    " \n",
    "print(fibonacci(9))   # at 9th place or index 34 is present in the fibonacci series"
   ]
  },
  {
   "cell_type": "code",
   "execution_count": null,
   "metadata": {},
   "outputs": [],
   "source": []
  }
 ],
 "metadata": {
  "kernelspec": {
   "display_name": "base",
   "language": "python",
   "name": "python3"
  },
  "language_info": {
   "codemirror_mode": {
    "name": "ipython",
    "version": 3
   },
   "file_extension": ".py",
   "mimetype": "text/x-python",
   "name": "python",
   "nbconvert_exporter": "python",
   "pygments_lexer": "ipython3",
   "version": "3.10.9"
  }
 },
 "nbformat": 4,
 "nbformat_minor": 2
}
