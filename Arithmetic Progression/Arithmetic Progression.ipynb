{
 "cells": [
  {
   "cell_type": "code",
   "execution_count": 2,
   "metadata": {},
   "outputs": [
    {
     "name": "stdout",
     "output_type": "stream",
     "text": [
      "First Number = 5\n",
      "Differnce = 2\n",
      "n = 5\n",
      "\n",
      "nth term is : 13\n"
     ]
    }
   ],
   "source": [
    "# Arithmetic Progression nth Term in Python\n",
    "\n",
    "a = int(input(\"Enter the first number: \"))\n",
    "print(\"First Number =\", a)\n",
    "\n",
    "d = int(input(\"Enter differnce: \"))\n",
    "print(\"Differnce =\", d)\n",
    "\n",
    "n = int(input(\"Enter n number of terms: \"))\n",
    "print(\"n =\", n)\n",
    "\n",
    "result = a + (n - 1) * d\n",
    "\n",
    "print()\n",
    "\n",
    "print(\"nth term is :\", result)"
   ]
  },
  {
   "cell_type": "code",
   "execution_count": null,
   "metadata": {},
   "outputs": [],
   "source": []
  }
 ],
 "metadata": {
  "kernelspec": {
   "display_name": "base",
   "language": "python",
   "name": "python3"
  },
  "language_info": {
   "codemirror_mode": {
    "name": "ipython",
    "version": 3
   },
   "file_extension": ".py",
   "mimetype": "text/x-python",
   "name": "python",
   "nbconvert_exporter": "python",
   "pygments_lexer": "ipython3",
   "version": "3.10.9"
  }
 },
 "nbformat": 4,
 "nbformat_minor": 2
}
