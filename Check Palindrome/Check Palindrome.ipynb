{
 "cells": [
  {
   "cell_type": "markdown",
   "metadata": {},
   "source": [
    "**Given a string s, you need to check if it is palindrome or not.**\n",
    "\n",
    "**A palidrome is a string that reads the same from front and back. Ignore the case in this question.**"
   ]
  },
  {
   "cell_type": "code",
   "execution_count": 1,
   "metadata": {},
   "outputs": [
    {
     "name": "stdout",
     "output_type": "stream",
     "text": [
      "Entered String: TenEt\n",
      "\n",
      "True\n"
     ]
    }
   ],
   "source": [
    "def IsPalindrome():\n",
    "    s = input(\"Enter a string: \")\n",
    "    print(\"Entered String:\", s)\n",
    "    print()\n",
    "\n",
    "    s = s.lower()        # converting to lower case\n",
    "    s1 = s[::-1]\n",
    "    \n",
    "    if s == s1:\n",
    "        print(\"True\")\n",
    "    else:\n",
    "        print(\"False\")\n",
    "\n",
    "IsPalindrome()"
   ]
  },
  {
   "cell_type": "code",
   "execution_count": null,
   "metadata": {},
   "outputs": [],
   "source": []
  }
 ],
 "metadata": {
  "kernelspec": {
   "display_name": "base",
   "language": "python",
   "name": "python3"
  },
  "language_info": {
   "codemirror_mode": {
    "name": "ipython",
    "version": 3
   },
   "file_extension": ".py",
   "mimetype": "text/x-python",
   "name": "python",
   "nbconvert_exporter": "python",
   "pygments_lexer": "ipython3",
   "version": "3.10.9"
  }
 },
 "nbformat": 4,
 "nbformat_minor": 2
}
