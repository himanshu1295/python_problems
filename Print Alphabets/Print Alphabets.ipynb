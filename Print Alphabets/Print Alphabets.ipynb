{
 "cells": [
  {
   "cell_type": "markdown",
   "metadata": {},
   "source": [
    "**Given two char c1 and c2.  you need to print all the alphabet starting from c1 to c2 in a single line.**"
   ]
  },
  {
   "cell_type": "code",
   "execution_count": 1,
   "metadata": {},
   "outputs": [
    {
     "name": "stdout",
     "output_type": "stream",
     "text": [
      "Entered Alphabet: a & z\n",
      "a b c d e f g h i j k l m n o p q r s t u v w x y z "
     ]
    }
   ],
   "source": [
    "def Alphabet():\n",
    "    c1 = input(\"Enter a character: \")\n",
    "    c2 = input(\"Enter another character: \")\n",
    "\n",
    "    print(\"Entered Alphabet:\", c1, \"&\", c2)\n",
    "\n",
    "    a = ord(c1)\n",
    "    b = ord(c2)\n",
    "\n",
    "    for i in range(a, b + 1):\n",
    "        print(chr(i), end=\" \")\n",
    "\n",
    "Alphabet()"
   ]
  },
  {
   "cell_type": "markdown",
   "metadata": {},
   "source": [
    "can also be used written as :\n",
    "\n",
    "for i in range(ord(c1), ord(c2) + 1):\n",
    "\n",
    "print(chr(i), end=\"\")"
   ]
  }
 ],
 "metadata": {
  "kernelspec": {
   "display_name": "base",
   "language": "python",
   "name": "python3"
  },
  "language_info": {
   "codemirror_mode": {
    "name": "ipython",
    "version": 3
   },
   "file_extension": ".py",
   "mimetype": "text/x-python",
   "name": "python",
   "nbconvert_exporter": "python",
   "pygments_lexer": "ipython3",
   "version": "3.10.9"
  }
 },
 "nbformat": 4,
 "nbformat_minor": 2
}
