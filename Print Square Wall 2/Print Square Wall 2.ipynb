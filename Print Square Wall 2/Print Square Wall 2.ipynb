{
 "cells": [
  {
   "cell_type": "markdown",
   "metadata": {},
   "source": [
    "Given an integer s,  write a program to print a square wall of size s without using string multiplication. \n",
    "\n",
    "Use nested loops instead. The * character will make up the wall."
   ]
  },
  {
   "cell_type": "code",
   "execution_count": 1,
   "metadata": {},
   "outputs": [
    {
     "name": "stdout",
     "output_type": "stream",
     "text": [
      "Size of the Square Wall: 5\n",
      "\n",
      "*****\n",
      "*****\n",
      "*****\n",
      "*****\n",
      "*****\n"
     ]
    }
   ],
   "source": [
    "def SquareWall():\n",
    "    s = int(input(\"Enter the Size of the Square: \"))\n",
    "    print(\"Size of the Square Wall:\", s)\n",
    "    print()\n",
    "\n",
    "    for i in range(s):\n",
    "        for j in range(s):\n",
    "            print(\"*\", end = \"\")\n",
    "        print()\n",
    "\n",
    "SquareWall()"
   ]
  },
  {
   "cell_type": "code",
   "execution_count": null,
   "metadata": {},
   "outputs": [],
   "source": []
  }
 ],
 "metadata": {
  "kernelspec": {
   "display_name": "base",
   "language": "python",
   "name": "python3"
  },
  "language_info": {
   "codemirror_mode": {
    "name": "ipython",
    "version": 3
   },
   "file_extension": ".py",
   "mimetype": "text/x-python",
   "name": "python",
   "nbconvert_exporter": "python",
   "pygments_lexer": "ipython3",
   "version": "3.10.9"
  }
 },
 "nbformat": 4,
 "nbformat_minor": 2
}
