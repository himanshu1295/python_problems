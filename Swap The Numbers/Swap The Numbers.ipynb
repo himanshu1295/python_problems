{
 "cells": [
  {
   "cell_type": "markdown",
   "metadata": {},
   "source": [
    "Given two numbers a and b, you need to swap their values so a holds the value of b and b holds the value of a."
   ]
  },
  {
   "cell_type": "code",
   "execution_count": 1,
   "metadata": {},
   "outputs": [
    {
     "name": "stdout",
     "output_type": "stream",
     "text": [
      "Number Entered 2 and 3\n",
      "3 2\n"
     ]
    }
   ],
   "source": [
    "def solution(a, b):\n",
    "\n",
    "    print(\"Number Entered\", a, \"and\", b)\n",
    "    temp = a          # storing the value of a in temp\n",
    "    a = b             # storing the value of b in a (swapping the values)\n",
    "    b = temp          # now assigning the value of temp to b\n",
    "\n",
    "    print(a, b)\n",
    "\n",
    "solution(2, 3)"
   ]
  },
  {
   "cell_type": "code",
   "execution_count": null,
   "metadata": {},
   "outputs": [],
   "source": []
  }
 ],
 "metadata": {
  "kernelspec": {
   "display_name": "base",
   "language": "python",
   "name": "python3"
  },
  "language_info": {
   "codemirror_mode": {
    "name": "ipython",
    "version": 3
   },
   "file_extension": ".py",
   "mimetype": "text/x-python",
   "name": "python",
   "nbconvert_exporter": "python",
   "pygments_lexer": "ipython3",
   "version": "3.10.9"
  }
 },
 "nbformat": 4,
 "nbformat_minor": 2
}
