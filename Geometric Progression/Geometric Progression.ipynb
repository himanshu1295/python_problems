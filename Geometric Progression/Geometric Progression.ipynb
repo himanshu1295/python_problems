{
 "cells": [
  {
   "cell_type": "code",
   "execution_count": 1,
   "metadata": {},
   "outputs": [
    {
     "name": "stdout",
     "output_type": "stream",
     "text": [
      "a =  5000\n",
      "r = 2\n",
      "n =  11\n",
      "\n",
      "nth term is : 5120000\n"
     ]
    }
   ],
   "source": [
    "# Geometric Progression nth Term in Python\n",
    "\n",
    "a = int(input(\"Enter the first number: \"))\n",
    "print(\"a = \", a)\n",
    "\n",
    "r = int(input(\"Enter common ratio: \"))\n",
    "print(\"r =\", r)\n",
    "\n",
    "n = int(input(\"Enter the n number of terms: \"))\n",
    "print(\"n = \", n)\n",
    "\n",
    "result = a * r ** (n - 1)\n",
    "\n",
    "print()\n",
    "\n",
    "print(\"nth term is :\", result)"
   ]
  },
  {
   "cell_type": "code",
   "execution_count": null,
   "metadata": {},
   "outputs": [],
   "source": []
  }
 ],
 "metadata": {
  "kernelspec": {
   "display_name": "base",
   "language": "python",
   "name": "python3"
  },
  "language_info": {
   "codemirror_mode": {
    "name": "ipython",
    "version": 3
   },
   "file_extension": ".py",
   "mimetype": "text/x-python",
   "name": "python",
   "nbconvert_exporter": "python",
   "pygments_lexer": "ipython3",
   "version": "3.10.9"
  }
 },
 "nbformat": 4,
 "nbformat_minor": 2
}
