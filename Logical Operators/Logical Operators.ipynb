{
 "cells": [
  {
   "cell_type": "markdown",
   "metadata": {},
   "source": [
    "Logical operators and, or, not are used in condition checking. \n",
    "\n",
    "Like a and b checks if both a and b are True. First a is checked then b is checked. \n",
    "\n",
    "a or b checks if either of a or b is True. If one is True; it doesn't check for the other.\n",
    "\n",
    "not a complements the boolean value of a\n",
    "\n",
    "Note: 0 and empty string are False and all other values are True.\n",
    "\n",
    "Task: In this question you basically need to do :\n",
    "1.) a and b\n",
    "2.) a or b\n",
    "3.) not a"
   ]
  },
  {
   "cell_type": "code",
   "execution_count": 1,
   "metadata": {},
   "outputs": [
    {
     "name": "stdout",
     "output_type": "stream",
     "text": [
      "Value of a : 0\n",
      "Value of b : 1\n",
      "Output of 0 and 1 is 0\n",
      "Output of 0 or 1 is 1\n",
      "Output of not 0 is True\n"
     ]
    }
   ],
   "source": [
    "# use integer value below :\n",
    "\n",
    "a = int(input(\"Enter value of a: \"))\n",
    "\n",
    "b = int(input(\"Enter value of b: \"))\n",
    "\n",
    "print(\"Value of a :\", a)\n",
    "\n",
    "print(\"Value of b :\", b)\n",
    "\n",
    "p = a and b\n",
    "\n",
    "q = a or b\n",
    "\n",
    "r = not a\n",
    "\n",
    "print(\"Output of {} and {} is {}\".format(a, b, p))\n",
    "\n",
    "print(\"Output of {} or {} is {}\".format(a, b, q))\n",
    "\n",
    "print(\"Output of not {} is {}\".format(a, r))\n"
   ]
  },
  {
   "cell_type": "code",
   "execution_count": 2,
   "metadata": {},
   "outputs": [
    {
     "name": "stdout",
     "output_type": "stream",
     "text": [
      "Value of a : True\n",
      "Value of b : False\n",
      "Output of True and False is False\n",
      "Output of True or False is True\n",
      "Output of not True is False\n"
     ]
    }
   ],
   "source": [
    "# use True or False in the value below :\n",
    "\n",
    "a = input(\"Enter value of a: \")\n",
    "\n",
    "b = input(\"Enter value of b: \")\n",
    "\n",
    "print(\"Value of a :\", a)\n",
    "\n",
    "print(\"Value of b :\", b)\n",
    "\n",
    "p = a and b\n",
    "\n",
    "q = a or b\n",
    "\n",
    "r = not a\n",
    "\n",
    "print(\"Output of {} and {} is {}\".format(a, b, p))\n",
    "\n",
    "print(\"Output of {} or {} is {}\".format(a, b, q))\n",
    "\n",
    "print(\"Output of not {} is {}\".format(a, r))"
   ]
  },
  {
   "cell_type": "code",
   "execution_count": null,
   "metadata": {},
   "outputs": [],
   "source": []
  }
 ],
 "metadata": {
  "kernelspec": {
   "display_name": "base",
   "language": "python",
   "name": "python3"
  },
  "language_info": {
   "codemirror_mode": {
    "name": "ipython",
    "version": 3
   },
   "file_extension": ".py",
   "mimetype": "text/x-python",
   "name": "python",
   "nbconvert_exporter": "python",
   "pygments_lexer": "ipython3",
   "version": "3.10.9"
  }
 },
 "nbformat": 4,
 "nbformat_minor": 2
}
