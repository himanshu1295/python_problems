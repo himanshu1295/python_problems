{
 "cells": [
  {
   "cell_type": "markdown",
   "metadata": {},
   "source": [
    "Given an integer N find the sum of the first N natural number."
   ]
  },
  {
   "cell_type": "code",
   "execution_count": 1,
   "metadata": {},
   "outputs": [
    {
     "name": "stdout",
     "output_type": "stream",
     "text": [
      "Number Entered: 10\n",
      "\n",
      "55\n"
     ]
    }
   ],
   "source": [
    "def nSum():\n",
    "    n = int(input(\"Enter a number: \"))\n",
    "    print(\"Number Entered:\", n)\n",
    "    print()\n",
    "\n",
    "    ans = 0\n",
    "    ans = n * (n + 1) // 2  # return int data type instead of float\n",
    "\n",
    "    print(ans)\n",
    "\n",
    "nSum()"
   ]
  }
 ],
 "metadata": {
  "kernelspec": {
   "display_name": "base",
   "language": "python",
   "name": "python3"
  },
  "language_info": {
   "codemirror_mode": {
    "name": "ipython",
    "version": 3
   },
   "file_extension": ".py",
   "mimetype": "text/x-python",
   "name": "python",
   "nbconvert_exporter": "python",
   "pygments_lexer": "ipython3",
   "version": "3.10.9"
  }
 },
 "nbformat": 4,
 "nbformat_minor": 2
}
