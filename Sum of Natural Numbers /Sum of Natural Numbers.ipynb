{
 "cells": [
  {
   "cell_type": "code",
   "execution_count": 1,
   "metadata": {},
   "outputs": [
    {
     "name": "stdout",
     "output_type": "stream",
     "text": [
      "n =  10\n",
      "\n",
      "Sum is : 55.0\n"
     ]
    }
   ],
   "source": [
    "# Sum of first n Natural numbers\n",
    "\n",
    "n = int(input(\"Enter the number: \"))\n",
    "\n",
    "print(\"n = \", n)\n",
    "\n",
    "sum = n * (n + 1) / 2\n",
    "\n",
    "print()\n",
    "\n",
    "print(\"Sum is :\", sum)"
   ]
  },
  {
   "cell_type": "code",
   "execution_count": null,
   "metadata": {},
   "outputs": [],
   "source": []
  }
 ],
 "metadata": {
  "kernelspec": {
   "display_name": "base",
   "language": "python",
   "name": "python3"
  },
  "language_info": {
   "codemirror_mode": {
    "name": "ipython",
    "version": 3
   },
   "file_extension": ".py",
   "mimetype": "text/x-python",
   "name": "python",
   "nbconvert_exporter": "python",
   "pygments_lexer": "ipython3",
   "version": "3.10.9"
  }
 },
 "nbformat": 4,
 "nbformat_minor": 2
}
