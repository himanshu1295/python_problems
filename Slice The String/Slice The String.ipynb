{
 "cells": [
  {
   "cell_type": "markdown",
   "metadata": {},
   "source": [
    "**Given a string s, you need to slice it so that the output is a substring that contains all the chracters except first and last.**\n",
    "\n",
    "**The length of the s will be greater than 2.**\n"
   ]
  },
  {
   "cell_type": "code",
   "execution_count": 1,
   "metadata": {},
   "outputs": [
    {
     "name": "stdout",
     "output_type": "stream",
     "text": [
      "Entered string: himanshu\n",
      "\n",
      "imansh\n"
     ]
    }
   ],
   "source": [
    "def SliceString():\n",
    "    s = input(\"Enter a string: \")\n",
    "\n",
    "    print(\"Entered string:\",s)\n",
    "\n",
    "    print()\n",
    "\n",
    "    result = s[1:len(s)-1]  # can also be written as s[1:-1] where it starts from 1 and -1 is the last alphabetic character\n",
    "\n",
    "    print(result)\n",
    "\n",
    "SliceString()"
   ]
  },
  {
   "cell_type": "code",
   "execution_count": null,
   "metadata": {},
   "outputs": [],
   "source": []
  }
 ],
 "metadata": {
  "kernelspec": {
   "display_name": "base",
   "language": "python",
   "name": "python3"
  },
  "language_info": {
   "codemirror_mode": {
    "name": "ipython",
    "version": 3
   },
   "file_extension": ".py",
   "mimetype": "text/x-python",
   "name": "python",
   "nbconvert_exporter": "python",
   "pygments_lexer": "ipython3",
   "version": "3.10.9"
  }
 },
 "nbformat": 4,
 "nbformat_minor": 2
}
