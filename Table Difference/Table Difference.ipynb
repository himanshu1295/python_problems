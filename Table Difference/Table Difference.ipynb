{
 "cells": [
  {
   "cell_type": "markdown",
   "metadata": {},
   "source": [
    "**Given two number n1 and n2, n1 > n2. Find the differences between mathematical tables of n1 and n2.**"
   ]
  },
  {
   "cell_type": "markdown",
   "metadata": {},
   "source": [
    "Example :\n",
    "\n",
    "Input:\n",
    "n1 = 9, n2 = 4\n",
    "\n",
    "Output:\n",
    "5 10 15 20 25 30 35 40 45 50 \n",
    "\n",
    "Explanation:\n",
    "9 - 4 = 5, 18 - 8 = 10 , 27 - 12 = 15,\n",
    "36 - 16 = 20, 45 - 20 = 25, 54 - 24 = 30,\n",
    "63 - 28 = 35, 72 - 32 = 40, 81 - 36 = 45,\n",
    "90 - 40 = 50."
   ]
  },
  {
   "cell_type": "code",
   "execution_count": 1,
   "metadata": {},
   "outputs": [
    {
     "name": "stdout",
     "output_type": "stream",
     "text": [
      "First Number:  9  Second Number:  4\n",
      "5 10 15 20 25 30 35 40 45 50 "
     ]
    }
   ],
   "source": [
    "def difference():\n",
    "    n1 = int(input(\"Enter the first number: \"))\n",
    "    n2 = int(input(\"Enter the second number: \"))\n",
    "\n",
    "    print(\"First Number: \", n1, \" Second Number: \", n2)\n",
    "\n",
    "    for i in range(1, 11):\n",
    "        diff = (n1 * i) - (n2 * i)\n",
    "        print(diff, end = \" \")\n",
    "\n",
    "difference()"
   ]
  },
  {
   "cell_type": "code",
   "execution_count": null,
   "metadata": {},
   "outputs": [],
   "source": []
  }
 ],
 "metadata": {
  "kernelspec": {
   "display_name": "base",
   "language": "python",
   "name": "python3"
  },
  "language_info": {
   "codemirror_mode": {
    "name": "ipython",
    "version": 3
   },
   "file_extension": ".py",
   "mimetype": "text/x-python",
   "name": "python",
   "nbconvert_exporter": "python",
   "pygments_lexer": "ipython3",
   "version": "3.10.9"
  }
 },
 "nbformat": 4,
 "nbformat_minor": 2
}
