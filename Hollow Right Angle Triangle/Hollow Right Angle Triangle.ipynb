{
 "cells": [
  {
   "cell_type": "markdown",
   "metadata": {},
   "source": [
    "Given an integer s. Write a program to print the Hollow Right Angle Triangle. \n",
    "\n",
    "The length of the perpendicular and base is s.  \n",
    "\n",
    "Use single loop and string multiplication."
   ]
  },
  {
   "cell_type": "code",
   "execution_count": 1,
   "metadata": {},
   "outputs": [
    {
     "name": "stdout",
     "output_type": "stream",
     "text": [
      "Length of the perpendicular and base of the triangle: 9\n",
      "*\n",
      "*  *\n",
      "*    *\n",
      "*      *\n",
      "*        *\n",
      "*          *\n",
      "*            *\n",
      "*              *\n",
      "* * * * * * * * * \n"
     ]
    }
   ],
   "source": [
    "def triangle():\n",
    "    s = int(input(\"Enter the length of the perpendicular and base of the triangle: \"))\n",
    "\n",
    "    print(\"Length of the perpendicular and base of the triangle:\", s)\n",
    "\n",
    "    for i in range(s):\n",
    "        if i == 0:\n",
    "            print(\"*\")\n",
    "        elif i == s - 1:           # last range - 1 will give full length boundary\n",
    "            print(\"* \" * s)        \n",
    "        else:\n",
    "            print(\"*\" + str(\" \" * (i * 2)) + \"*\")  # i * 2 multiply 'space' between the 2 stars.\n",
    "\n",
    "triangle()"
   ]
  },
  {
   "cell_type": "code",
   "execution_count": null,
   "metadata": {},
   "outputs": [],
   "source": []
  }
 ],
 "metadata": {
  "kernelspec": {
   "display_name": "base",
   "language": "python",
   "name": "python3"
  },
  "language_info": {
   "codemirror_mode": {
    "name": "ipython",
    "version": 3
   },
   "file_extension": ".py",
   "mimetype": "text/x-python",
   "name": "python",
   "nbconvert_exporter": "python",
   "pygments_lexer": "ipython3",
   "version": "3.10.9"
  }
 },
 "nbformat": 4,
 "nbformat_minor": 2
}
