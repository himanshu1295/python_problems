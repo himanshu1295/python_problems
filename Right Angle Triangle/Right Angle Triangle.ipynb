{
 "cells": [
  {
   "cell_type": "markdown",
   "metadata": {},
   "source": [
    "Given an integer s. Write a program to print the Right angle triangle wall. \n",
    "\n",
    "The length of perpendicular and base is s.  Use single loop and string multiplication."
   ]
  },
  {
   "cell_type": "code",
   "execution_count": 1,
   "metadata": {},
   "outputs": [
    {
     "name": "stdout",
     "output_type": "stream",
     "text": [
      "Size of the Triangle Wall : 4\n",
      "\n",
      "* \n",
      "* * \n",
      "* * * \n",
      "* * * * \n"
     ]
    }
   ],
   "source": [
    "def TriangleWall():\n",
    "    s = int(input(\"Enter the Size of the Triangle: \"))\n",
    "\n",
    "    print(\"Size of the Triangle Wall :\", s)\n",
    "\n",
    "    print()\n",
    "\n",
    "    for i in range(1, s+1):\n",
    "        print(\"* \" * i)\n",
    "\n",
    "TriangleWall()"
   ]
  },
  {
   "cell_type": "code",
   "execution_count": null,
   "metadata": {},
   "outputs": [],
   "source": []
  }
 ],
 "metadata": {
  "kernelspec": {
   "display_name": "base",
   "language": "python",
   "name": "python3"
  },
  "language_info": {
   "codemirror_mode": {
    "name": "ipython",
    "version": 3
   },
   "file_extension": ".py",
   "mimetype": "text/x-python",
   "name": "python",
   "nbconvert_exporter": "python",
   "pygments_lexer": "ipython3",
   "version": "3.10.9"
  }
 },
 "nbformat": 4,
 "nbformat_minor": 2
}
