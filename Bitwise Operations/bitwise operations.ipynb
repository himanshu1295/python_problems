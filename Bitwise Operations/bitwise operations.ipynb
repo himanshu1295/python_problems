{
 "cells": [
  {
   "cell_type": "markdown",
   "metadata": {},
   "source": [
    "Given three positive integers a, b and c. Your task is to perform some bitwise operations on them as given below:\n",
    "1. d = a ^ a\n",
    "2. e = c ^ b\n",
    "3. f = a & b          # and\n",
    "4. g = c | (a ^ a)    # or\n",
    "5. h = ~ e            # not\n",
    "Note: ^ is for xor."
   ]
  },
  {
   "cell_type": "code",
   "execution_count": 2,
   "metadata": {},
   "outputs": [
    {
     "name": "stdout",
     "output_type": "stream",
     "text": [
      "Value of a:  1\n",
      "Value of b:  2\n",
      "Value of c:  3\n",
      "0 1 0 3 -2\n"
     ]
    }
   ],
   "source": [
    "def bitwise_operations():\n",
    "    a = int(input(\"Value of a: \"))\n",
    "    b = int(input(\"Value of b: \"))\n",
    "    c = int(input(\"Value of c: \"))\n",
    "\n",
    "    print(\"Value of a: \", a)\n",
    "    print(\"Value of b: \", b)\n",
    "    print(\"Value of c: \", c)\n",
    "    \n",
    "    d = a ^ a\n",
    "    e = c ^ b\n",
    "    f = a & b\n",
    "    g = c | (a ^ a)\n",
    "    h = ~ e\n",
    "\n",
    "    print(d, e, f, g, h)\n",
    "\n",
    "bitwise_operations()"
   ]
  },
  {
   "cell_type": "code",
   "execution_count": null,
   "metadata": {},
   "outputs": [],
   "source": []
  }
 ],
 "metadata": {
  "kernelspec": {
   "display_name": "base",
   "language": "python",
   "name": "python3"
  },
  "language_info": {
   "codemirror_mode": {
    "name": "ipython",
    "version": 3
   },
   "file_extension": ".py",
   "mimetype": "text/x-python",
   "name": "python",
   "nbconvert_exporter": "python",
   "pygments_lexer": "ipython3",
   "version": "3.10.9"
  }
 },
 "nbformat": 4,
 "nbformat_minor": 2
}
