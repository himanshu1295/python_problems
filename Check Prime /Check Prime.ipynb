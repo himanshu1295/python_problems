{
 "cells": [
  {
   "cell_type": "markdown",
   "metadata": {},
   "source": [
    "Given an integer n check if n is prime or not.\n",
    "\n",
    "A prime number is a number that is divisible by 1 and itself only."
   ]
  },
  {
   "cell_type": "code",
   "execution_count": 1,
   "metadata": {},
   "outputs": [
    {
     "name": "stdout",
     "output_type": "stream",
     "text": [
      "Number Entered: 17\n",
      "\n",
      "Prime number\n"
     ]
    }
   ],
   "source": [
    "def isPrime():\n",
    "    n = int(input(\"Enter a number: \"))\n",
    "\n",
    "    print(\"Number Entered:\", n)\n",
    "\n",
    "    print()\n",
    "\n",
    "    if n <= 1:\n",
    "        print(\"Not a prime number\")\n",
    "\n",
    "    for i in range(2, int(n ** 0.5) + 1):           # Loop through all numbers from 2 to the square root of n \n",
    "        if n % i == 0:                              # (rounded down to the nearest integer)\n",
    "            print(\"Not a prime number\")\n",
    "            break\n",
    "    else:\n",
    "        print(\"Prime number\")\n",
    "\n",
    "isPrime()"
   ]
  },
  {
   "cell_type": "code",
   "execution_count": null,
   "metadata": {},
   "outputs": [],
   "source": []
  }
 ],
 "metadata": {
  "kernelspec": {
   "display_name": "base",
   "language": "python",
   "name": "python3"
  },
  "language_info": {
   "codemirror_mode": {
    "name": "ipython",
    "version": 3
   },
   "file_extension": ".py",
   "mimetype": "text/x-python",
   "name": "python",
   "nbconvert_exporter": "python",
   "pygments_lexer": "ipython3",
   "version": "3.10.9"
  }
 },
 "nbformat": 4,
 "nbformat_minor": 2
}
