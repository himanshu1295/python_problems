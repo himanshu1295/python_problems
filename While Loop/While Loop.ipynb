{
 "cells": [
  {
   "cell_type": "markdown",
   "metadata": {},
   "source": [
    "Given a number x, the task is to print the numbers from x to 0 in decreasing order in a single line."
   ]
  },
  {
   "cell_type": "code",
   "execution_count": 1,
   "metadata": {},
   "outputs": [
    {
     "name": "stdout",
     "output_type": "stream",
     "text": [
      "Number Entered = 5\n",
      "5 4 3 2 1 0 "
     ]
    }
   ],
   "source": [
    "def reverse():\n",
    "    x = int(input(\"Enter a Number: \"))\n",
    "\n",
    "    print(\"Number Entered =\", x)\n",
    "\n",
    "    while x >= 0:\n",
    "        print(x, end = \" \")\n",
    "        x -= 1\n",
    "\n",
    "reverse()"
   ]
  },
  {
   "cell_type": "code",
   "execution_count": null,
   "metadata": {},
   "outputs": [],
   "source": []
  }
 ],
 "metadata": {
  "kernelspec": {
   "display_name": "base",
   "language": "python",
   "name": "python3"
  },
  "language_info": {
   "codemirror_mode": {
    "name": "ipython",
    "version": 3
   },
   "file_extension": ".py",
   "mimetype": "text/x-python",
   "name": "python",
   "nbconvert_exporter": "python",
   "pygments_lexer": "ipython3",
   "version": "3.10.9"
  }
 },
 "nbformat": 4,
 "nbformat_minor": 2
}
