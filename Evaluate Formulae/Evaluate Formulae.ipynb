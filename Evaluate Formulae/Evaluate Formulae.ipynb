{
 "cells": [
  {
   "cell_type": "markdown",
   "metadata": {},
   "source": [
    "Given four inputs that are stored in variables a,b,c, and d. \n",
    "\n",
    "You need to write an expression to evaluate the following formula : (a+b)/c + d\n",
    "\n",
    "Use integer division. The expression should be a single statement."
   ]
  },
  {
   "cell_type": "code",
   "execution_count": 1,
   "metadata": {},
   "outputs": [
    {
     "name": "stdout",
     "output_type": "stream",
     "text": [
      "Value of a:  10\n",
      "Value of b:  4\n",
      "Value of c:  7\n",
      "Value of d:  9\n",
      "The Result is : 11.0\n"
     ]
    }
   ],
   "source": [
    "def expression():\n",
    "    a = int(input(\"Value of a: \"))\n",
    "    b = int(input(\"Value of b: \"))\n",
    "    c = int(input(\"Value of c: \"))\n",
    "    d = int(input(\"Value of d: \"))\n",
    "\n",
    "    print(\"Value of a: \", a)\n",
    "    print(\"Value of b: \", b)\n",
    "    print(\"Value of c: \", c)\n",
    "    print(\"Value of d: \", d)\n",
    "\n",
    "    result = ((a + b) / c) + d\n",
    "\n",
    "    print(\"The Result is :\", result)\n",
    "\n",
    "expression()"
   ]
  },
  {
   "cell_type": "code",
   "execution_count": null,
   "metadata": {},
   "outputs": [],
   "source": []
  }
 ],
 "metadata": {
  "kernelspec": {
   "display_name": "base",
   "language": "python",
   "name": "python3"
  },
  "language_info": {
   "codemirror_mode": {
    "name": "ipython",
    "version": 3
   },
   "file_extension": ".py",
   "mimetype": "text/x-python",
   "name": "python",
   "nbconvert_exporter": "python",
   "pygments_lexer": "ipython3",
   "version": "3.10.9"
  }
 },
 "nbformat": 4,
 "nbformat_minor": 2
}
