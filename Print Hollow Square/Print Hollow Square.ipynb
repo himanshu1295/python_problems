{
 "cells": [
  {
   "cell_type": "markdown",
   "metadata": {},
   "source": [
    "**Given an integer s, write a program to print the hollow square of size s using * character.**"
   ]
  },
  {
   "cell_type": "markdown",
   "metadata": {},
   "source": [
    "Method 1 :"
   ]
  },
  {
   "cell_type": "code",
   "execution_count": 1,
   "metadata": {},
   "outputs": [
    {
     "name": "stdout",
     "output_type": "stream",
     "text": [
      "Size of hollow square: 4\n",
      "****\n",
      "*  *\n",
      "*  *\n",
      "****\n"
     ]
    }
   ],
   "source": [
    "def hollowSquare():\n",
    "    s = int(input(\"Enter the size of the hollow square: \"))\n",
    "    print(\"Size of hollow square:\", s)\n",
    "\n",
    "    for i in range(s):\n",
    "        if i == 0:\n",
    "            print(\"*\" * s)\n",
    "        elif i == s - 1:\n",
    "            print(\"*\" * s)\n",
    "        else:\n",
    "            print(\"*\" + str(\" \" * (s - 2)) + \"*\")   # s-2 because hollow spaces in between leaving 1st and last\n",
    "\n",
    "hollowSquare()"
   ]
  },
  {
   "cell_type": "markdown",
   "metadata": {},
   "source": [
    "Method 2 :"
   ]
  },
  {
   "cell_type": "code",
   "execution_count": 2,
   "metadata": {},
   "outputs": [
    {
     "name": "stdout",
     "output_type": "stream",
     "text": [
      "Size of the hollow square: 4\n",
      "****\n",
      "*  *\n",
      "*  *\n",
      "****\n"
     ]
    }
   ],
   "source": [
    "def square():\n",
    "    s = int(input(\"Enter the size of the hollow square: \"))\n",
    "    print(\"Size of the hollow square:\", s)\n",
    "\n",
    "    for i in range(s):\n",
    "        for j in range(s):\n",
    "            if i == 0 or i == s - 1 or j == 0 or j == s - 1:\n",
    "                print(\"*\", end = \"\")\n",
    "            else:\n",
    "                print(\" \", end = \"\")\n",
    "        print()                            # prints new line when the j value is increased\n",
    "\n",
    "square()"
   ]
  },
  {
   "cell_type": "code",
   "execution_count": null,
   "metadata": {},
   "outputs": [],
   "source": []
  }
 ],
 "metadata": {
  "kernelspec": {
   "display_name": "base",
   "language": "python",
   "name": "python3"
  },
  "language_info": {
   "codemirror_mode": {
    "name": "ipython",
    "version": 3
   },
   "file_extension": ".py",
   "mimetype": "text/x-python",
   "name": "python",
   "nbconvert_exporter": "python",
   "pygments_lexer": "ipython3",
   "version": "3.10.9"
  }
 },
 "nbformat": 4,
 "nbformat_minor": 2
}
