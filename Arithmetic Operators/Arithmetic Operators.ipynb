{
 "cells": [
  {
   "cell_type": "code",
   "execution_count": 3,
   "metadata": {},
   "outputs": [
    {
     "name": "stdout",
     "output_type": "stream",
     "text": [
      "First Number:  13\n",
      "Second Number:  7\n",
      "Addition : 20\n",
      "Subtraction : 6\n",
      "Multiplication : 91\n",
      "Float Division : 1.85714\n",
      "Int Division : 1\n",
      "Modulus : 6\n",
      "Power : 62748517\n"
     ]
    }
   ],
   "source": [
    "# Arithmetic Operators Problem :\n",
    "\n",
    "# You are given two integer variables x and y. You need to perform the following operations:\n",
    "\n",
    "# p = x+y : Addition\n",
    "# q = x-y : Subtraction\n",
    "# r = x*y :Multiplication\n",
    "# s = x/y : Float Division with a precision of 5 decimal places\n",
    "# t = x//y : Int Division\n",
    "# u = x%y : Modulo\n",
    "# v = x**y : Power\n",
    "\n",
    "x = int(input(\"Enter the first number :\"))\n",
    "y = int(input(\"Enter the second number :\"))\n",
    "\n",
    "print(\"First Number: \", x)\n",
    "print(\"Second Number: \", y)\n",
    "\n",
    "class Solution:\n",
    "    def __init__(self, x, y):\n",
    "        self.x = x\n",
    "        self.y = y\n",
    "\n",
    "    def operation(self):\n",
    "        p = self.x + self.y\n",
    "        q = self.x - self.y\n",
    "        r = self.x * self.y\n",
    "        s = round(self.x / self.y,5)\n",
    "        t = self.x // self.y\n",
    "        u = self.x % self.y\n",
    "        v = self.x ** self.y\n",
    "        print(\"Addition :\", p)\n",
    "        print(\"Subtraction :\", q)\n",
    "        print(\"Multiplication :\", r)\n",
    "        print(\"Float Division :\", s)\n",
    "        print(\"Int Division :\", t)\n",
    "        print(\"Modulus :\", u)\n",
    "        print(\"Power :\", v)\n",
    "\n",
    "solution_instance = Solution(x, y)\n",
    "solution_instance.operation()"
   ]
  },
  {
   "cell_type": "code",
   "execution_count": null,
   "metadata": {},
   "outputs": [],
   "source": []
  }
 ],
 "metadata": {
  "kernelspec": {
   "display_name": "base",
   "language": "python",
   "name": "python3"
  },
  "language_info": {
   "codemirror_mode": {
    "name": "ipython",
    "version": 3
   },
   "file_extension": ".py",
   "mimetype": "text/x-python",
   "name": "python",
   "nbconvert_exporter": "python",
   "pygments_lexer": "ipython3",
   "version": "3.10.9"
  }
 },
 "nbformat": 4,
 "nbformat_minor": 2
}
