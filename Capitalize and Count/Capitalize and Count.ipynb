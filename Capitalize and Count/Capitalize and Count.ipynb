{
 "cells": [
  {
   "cell_type": "markdown",
   "metadata": {},
   "source": [
    "**Given a string s of single space-separated words.**\n",
    "\n",
    "**Capitalize the first letter of all words and count the number of the words in the string.**"
   ]
  },
  {
   "cell_type": "code",
   "execution_count": 1,
   "metadata": {},
   "outputs": [
    {
     "name": "stdout",
     "output_type": "stream",
     "text": [
      "Entered String: welcome to the world of data science\n",
      "\n",
      "Welcome To The World Of Data Science\n",
      "7\n"
     ]
    }
   ],
   "source": [
    "def CapitalizeWords():\n",
    "    s = input(\"Enter a string: \")\n",
    "\n",
    "    print(\"Entered String:\", s)\n",
    "    \n",
    "    print()\n",
    "\n",
    "    print(s.title())    # making each word capital\n",
    "\n",
    "    words = s.split()   # spliting the string into words and removing the spaces. Here s.split() makes a list of words from the string\n",
    "    \n",
    "    print(len(words))   # total number of words in the string\n",
    "\n",
    "CapitalizeWords()"
   ]
  },
  {
   "cell_type": "code",
   "execution_count": null,
   "metadata": {},
   "outputs": [],
   "source": []
  }
 ],
 "metadata": {
  "kernelspec": {
   "display_name": "base",
   "language": "python",
   "name": "python3"
  },
  "language_info": {
   "codemirror_mode": {
    "name": "ipython",
    "version": 3
   },
   "file_extension": ".py",
   "mimetype": "text/x-python",
   "name": "python",
   "nbconvert_exporter": "python",
   "pygments_lexer": "ipython3",
   "version": "3.10.9"
  }
 },
 "nbformat": 4,
 "nbformat_minor": 2
}
