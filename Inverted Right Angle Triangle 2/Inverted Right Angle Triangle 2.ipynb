{
 "cells": [
  {
   "cell_type": "markdown",
   "metadata": {},
   "source": [
    "Given an integer s. Write a program to print the Inverted \"Right angle triangle\" wall. \n",
    "\n",
    "The length of the perpendicular and base is s. Use double loop."
   ]
  },
  {
   "cell_type": "code",
   "execution_count": 1,
   "metadata": {},
   "outputs": [
    {
     "name": "stdout",
     "output_type": "stream",
     "text": [
      "Length of the perpendicular and base: 4\n",
      "\n",
      "* * * * \n",
      "* * * \n",
      "* * \n",
      "* \n"
     ]
    }
   ],
   "source": [
    "def InvertedTriangle():\n",
    "    s = int(input(\"Enter the length of the perpendicular and base: \"))\n",
    "\n",
    "    print(\"Length of the perpendicular and base:\", s)\n",
    "\n",
    "    print()\n",
    "\n",
    "    for i in range(s, 0, -1):         # start at i = 4 and end at i = 0 \n",
    "        for j in range(i):            # start at j = 4 and end at j = 0\n",
    "            print(\"*\", end=\" \")\n",
    "        print()                       # in double for loop always remember to use print() for new line\n",
    "\n",
    "InvertedTriangle()"
   ]
  },
  {
   "cell_type": "code",
   "execution_count": null,
   "metadata": {},
   "outputs": [],
   "source": []
  }
 ],
 "metadata": {
  "kernelspec": {
   "display_name": "base",
   "language": "python",
   "name": "python3"
  },
  "language_info": {
   "codemirror_mode": {
    "name": "ipython",
    "version": 3
   },
   "file_extension": ".py",
   "mimetype": "text/x-python",
   "name": "python",
   "nbconvert_exporter": "python",
   "pygments_lexer": "ipython3",
   "version": "3.10.9"
  }
 },
 "nbformat": 4,
 "nbformat_minor": 2
}
