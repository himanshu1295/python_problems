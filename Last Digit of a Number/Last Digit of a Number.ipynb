{
 "cells": [
  {
   "cell_type": "code",
   "execution_count": 1,
   "metadata": {},
   "outputs": [
    {
     "name": "stdout",
     "output_type": "stream",
     "text": [
      "n =  13\n",
      "\n",
      "Last digit is : 3\n"
     ]
    }
   ],
   "source": [
    "# Find Last Digit of a Number\n",
    "\n",
    "n = int(input(\"Enter the number: \"))\n",
    "\n",
    "print(\"n = \", n)\n",
    "\n",
    "last_digit = n % 10 # remainder after dividing by 10\n",
    "\n",
    "print()\n",
    "\n",
    "print(\"Last digit is :\", last_digit)"
   ]
  },
  {
   "cell_type": "code",
   "execution_count": null,
   "metadata": {},
   "outputs": [],
   "source": []
  }
 ],
 "metadata": {
  "kernelspec": {
   "display_name": "base",
   "language": "python",
   "name": "python3"
  },
  "language_info": {
   "codemirror_mode": {
    "name": "ipython",
    "version": 3
   },
   "file_extension": ".py",
   "mimetype": "text/x-python",
   "name": "python",
   "nbconvert_exporter": "python",
   "pygments_lexer": "ipython3",
   "version": "3.10.9"
  }
 },
 "nbformat": 4,
 "nbformat_minor": 2
}
