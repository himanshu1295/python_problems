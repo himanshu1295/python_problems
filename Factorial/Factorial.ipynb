{
 "cells": [
  {
   "cell_type": "markdown",
   "metadata": {},
   "source": [
    "Given an integer N. Write a program to return the factorial of N.\n",
    "\n",
    "Note: 0 factorial is equal to 1."
   ]
  },
  {
   "cell_type": "code",
   "execution_count": 1,
   "metadata": {},
   "outputs": [
    {
     "name": "stdout",
     "output_type": "stream",
     "text": [
      "Number Entered: 10\n",
      "3628800\n"
     ]
    }
   ],
   "source": [
    "def nFactorial():\n",
    "    \n",
    "    n = int(input(\"Enter a number: \"))\n",
    "\n",
    "    print(\"Number Entered:\", n)\n",
    "    \n",
    "    ans = 1\n",
    "    for i in range(1, n + 1):\n",
    "        ans = ans * i\n",
    "    print(ans)\n",
    "\n",
    "nFactorial()"
   ]
  },
  {
   "cell_type": "code",
   "execution_count": null,
   "metadata": {},
   "outputs": [],
   "source": []
  }
 ],
 "metadata": {
  "kernelspec": {
   "display_name": "base",
   "language": "python",
   "name": "python3"
  },
  "language_info": {
   "codemirror_mode": {
    "name": "ipython",
    "version": 3
   },
   "file_extension": ".py",
   "mimetype": "text/x-python",
   "name": "python",
   "nbconvert_exporter": "python",
   "pygments_lexer": "ipython3",
   "version": "3.10.9"
  }
 },
 "nbformat": 4,
 "nbformat_minor": 2
}
