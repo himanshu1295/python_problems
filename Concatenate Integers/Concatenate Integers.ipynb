{
 "cells": [
  {
   "cell_type": "markdown",
   "metadata": {},
   "source": [
    "Given two integers a and b, you need to concatenate them so the output is ab."
   ]
  },
  {
   "cell_type": "code",
   "execution_count": 1,
   "metadata": {},
   "outputs": [
    {
     "name": "stdout",
     "output_type": "stream",
     "text": [
      "The Number Entered are : 5 and 6\n",
      "56\n"
     ]
    }
   ],
   "source": [
    "def utility():\n",
    "    a = int(input(\"Enter first number: \"))\n",
    "    b = int(input(\"Enter second number: \"))\n",
    "\n",
    "    print(\"The Number Entered are :\", a, \"and\", b)\n",
    "\n",
    "    # to concatenate the two numbers we need to convert integer to a string\n",
    "\n",
    "    ans = str(a) + str(b)\n",
    "\n",
    "    print(ans)\n",
    "\n",
    "utility()"
   ]
  },
  {
   "cell_type": "code",
   "execution_count": null,
   "metadata": {},
   "outputs": [],
   "source": []
  }
 ],
 "metadata": {
  "kernelspec": {
   "display_name": "base",
   "language": "python",
   "name": "python3"
  },
  "language_info": {
   "codemirror_mode": {
    "name": "ipython",
    "version": 3
   },
   "file_extension": ".py",
   "mimetype": "text/x-python",
   "name": "python",
   "nbconvert_exporter": "python",
   "pygments_lexer": "ipython3",
   "version": "3.10.9"
  }
 },
 "nbformat": 4,
 "nbformat_minor": 2
}
