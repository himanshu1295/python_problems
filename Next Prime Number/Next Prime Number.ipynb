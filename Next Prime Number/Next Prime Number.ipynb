{
 "cells": [
  {
   "cell_type": "markdown",
   "metadata": {},
   "source": [
    "**Given an integer n. Write a program to find the prime number next to n.**"
   ]
  },
  {
   "cell_type": "code",
   "execution_count": 1,
   "metadata": {},
   "outputs": [
    {
     "name": "stdout",
     "output_type": "stream",
     "text": [
      "Number Entered: 7\n",
      "11\n"
     ]
    }
   ],
   "source": [
    "n = int(input(\"Enter the number: \"))\n",
    "\n",
    "print(\"Number Entered:\", n)\n",
    "\n",
    "def nextPrime(n):\n",
    "    num = n + 1                            \n",
    "    while not is_prime(num):      # if the below result is false then while loop becomes True and num will increment\n",
    "        num += 1                  # then while loop will run again\n",
    "    return num                    # if the below result = True, then while loop = False, then value return 'num' which is prime number\n",
    "    \n",
    "def is_prime(n):                  # to check if number is prime or not\n",
    "    if n <= 1:\n",
    "        return False\n",
    "    for i in range(2, int(n ** 0.5) + 1):\n",
    "        if n % i == 0:\n",
    "            return False\n",
    "    return True                \n",
    "\n",
    "print(nextPrime(n))      # return value needs to be printed hence using print function before nextPrime function"
   ]
  },
  {
   "cell_type": "code",
   "execution_count": null,
   "metadata": {},
   "outputs": [],
   "source": []
  }
 ],
 "metadata": {
  "kernelspec": {
   "display_name": "base",
   "language": "python",
   "name": "python3"
  },
  "language_info": {
   "codemirror_mode": {
    "name": "ipython",
    "version": 3
   },
   "file_extension": ".py",
   "mimetype": "text/x-python",
   "name": "python",
   "nbconvert_exporter": "python",
   "pygments_lexer": "ipython3",
   "version": "3.10.9"
  }
 },
 "nbformat": 4,
 "nbformat_minor": 2
}
