{
 "cells": [
  {
   "cell_type": "code",
   "execution_count": 1,
   "metadata": {},
   "outputs": [
    {
     "name": "stdout",
     "output_type": "stream",
     "text": [
      "d = 0\n",
      "n = 9\n",
      "\n",
      "Day is : 5\n"
     ]
    }
   ],
   "source": [
    "# Problem : Day before n Days\n",
    "\n",
    "# d = day which starts from Sunday which is 0\n",
    "\n",
    "# 0 means Sunday, 1 means Monday, 2 means Tuesday, 3 means Wednesday, 4 means Thursday \n",
    "# 5 means Friday, 6 means Saturday\n",
    "\n",
    "d = int(input(\"Enter d: \"))\n",
    "\n",
    "print(\"d =\", d)\n",
    "\n",
    "n = int(input(\"Enter the number of days: \")) # Enter the number of days you want to know the date before\n",
    "\n",
    "print(\"n =\", n)\n",
    "\n",
    "result = (d - n) % 7\n",
    "\n",
    "print()\n",
    "\n",
    "print(\"Day is :\", result)"
   ]
  },
  {
   "cell_type": "code",
   "execution_count": null,
   "metadata": {},
   "outputs": [],
   "source": []
  }
 ],
 "metadata": {
  "kernelspec": {
   "display_name": "base",
   "language": "python",
   "name": "python3"
  },
  "language_info": {
   "codemirror_mode": {
    "name": "ipython",
    "version": 3
   },
   "file_extension": ".py",
   "mimetype": "text/x-python",
   "name": "python",
   "nbconvert_exporter": "python",
   "pygments_lexer": "ipython3",
   "version": "3.10.9"
  }
 },
 "nbformat": 4,
 "nbformat_minor": 2
}
