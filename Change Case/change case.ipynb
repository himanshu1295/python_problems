{
 "cells": [
  {
   "cell_type": "markdown",
   "metadata": {},
   "source": [
    "Given a string s, you need to perform the following operation.\n",
    "\n",
    "1. Capitalize the first letter and print.\n",
    "\n",
    "2. Convert the whole string to uppercase and print.\n"
   ]
  },
  {
   "cell_type": "code",
   "execution_count": 1,
   "metadata": {},
   "outputs": [
    {
     "name": "stdout",
     "output_type": "stream",
     "text": [
      "Entered String: hello\n",
      "Hello\n",
      "HELLO\n"
     ]
    }
   ],
   "source": [
    "def ChangeCase():\n",
    "    s = input(\"Enter a string: \")\n",
    "\n",
    "    print(\"Entered String:\", s)\n",
    "\n",
    "    print(s.title())  # can also be used s.capitalize() to capitalize the first letter\n",
    "    print(s.upper())\n",
    "\n",
    "ChangeCase()"
   ]
  },
  {
   "cell_type": "code",
   "execution_count": null,
   "metadata": {},
   "outputs": [],
   "source": []
  }
 ],
 "metadata": {
  "kernelspec": {
   "display_name": "base",
   "language": "python",
   "name": "python3"
  },
  "language_info": {
   "codemirror_mode": {
    "name": "ipython",
    "version": 3
   },
   "file_extension": ".py",
   "mimetype": "text/x-python",
   "name": "python",
   "nbconvert_exporter": "python",
   "pygments_lexer": "ipython3",
   "version": "3.10.9"
  }
 },
 "nbformat": 4,
 "nbformat_minor": 2
}
