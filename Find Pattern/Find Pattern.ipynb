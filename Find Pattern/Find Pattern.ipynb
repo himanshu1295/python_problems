{
 "cells": [
  {
   "cell_type": "markdown",
   "metadata": {},
   "source": [
    "**Given a string s, and a pattern p. You need to find if p exists in s or not and return the starting index of p in s.**\n",
    "\n",
    "**If p does not exist in s then -1 will be returned.**\n",
    "\n",
    "**Here p and s both are case-sensitive.**\n"
   ]
  },
  {
   "cell_type": "code",
   "execution_count": 4,
   "metadata": {},
   "outputs": [
    {
     "name": "stdout",
     "output_type": "stream",
     "text": [
      "Entered String: hello\n",
      "\n",
      "Entered Pattern: llo\n",
      "\n"
     ]
    },
    {
     "data": {
      "text/plain": [
       "2"
      ]
     },
     "execution_count": 4,
     "metadata": {},
     "output_type": "execute_result"
    }
   ],
   "source": [
    "s = input(\"Enter a String: \")\n",
    "\n",
    "print(\"Entered String:\", s)\n",
    "print()\n",
    "\n",
    "p = input(\"Enter a Pattern: \")\n",
    "print(\"Entered Pattern:\", p)\n",
    "print()\n",
    "\n",
    "def FindPattern(s, p):\n",
    "    pos = s.find(p)      # This will return the starting index of the pattern\n",
    "    return pos\n",
    "\n",
    "FindPattern(s, p)"
   ]
  },
  {
   "cell_type": "markdown",
   "metadata": {},
   "source": [
    "The pattern 'llo' starts at 2nd index in the above String s."
   ]
  }
 ],
 "metadata": {
  "kernelspec": {
   "display_name": "base",
   "language": "python",
   "name": "python3"
  },
  "language_info": {
   "codemirror_mode": {
    "name": "ipython",
    "version": 3
   },
   "file_extension": ".py",
   "mimetype": "text/x-python",
   "name": "python",
   "nbconvert_exporter": "python",
   "pygments_lexer": "ipython3",
   "version": "3.10.9"
  }
 },
 "nbformat": 4,
 "nbformat_minor": 2
}
